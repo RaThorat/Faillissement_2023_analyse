{
 "cells": [
  {
   "cell_type": "code",
   "execution_count": null,
   "id": "71bd6ef7",
   "metadata": {},
   "outputs": [],
   "source": [
    "#!/usr/bin/env python\n",
    "# coding: utf-8\n",
    "\n",
    "# Importeer de benodigde bibliotheken\n",
    "import pandas as pd\n",
    "import matplotlib.pyplot as plt\n",
    "import seaborn as sns\n",
    "import numpy as np\n",
    "from geopy.geocoders import GoogleV3\n",
    "import geopandas as gpd\n",
    "import folium\n",
    "from folium import plugins"
   ]
  },
  {
   "cell_type": "markdown",
   "id": "f172301d",
   "metadata": {},
   "source": [
    "### faillissement_database_2023"
   ]
  },
  {
   "cell_type": "code",
   "execution_count": null,
   "id": "dc409fb2",
   "metadata": {},
   "outputs": [],
   "source": [
    "# Lees de data uit de Excel-bestanden\n",
    "data = pd.read_excel('faillissement_database_2023.xlsx')\n",
    "\n",
    "# Maak de data schoon en voorbewerk deze\n",
    "data['ORG_PLAATS'] = data['ORG_PLAATS'].str.strip()\n",
    "data['Activiteit'] = data['Activiteit'].str.strip()\n",
    "data['Uitspraak'] = data['Uitspraak'].str.strip()\n",
    "data['Status_faillissement'] = data['Status_faillissement'].str.strip()\n",
    "\n",
    "data['ORG_KVK'] = pd.to_numeric(data['ORG_KVK'], errors='coerce', downcast='integer').fillna(0).astype(int)\n",
    "data['Sbi-code'] = pd.to_numeric(data['Sbi-code'], errors='coerce', downcast='integer').fillna(0).astype(int)"
   ]
  },
  {
   "cell_type": "markdown",
   "id": "a13482b9",
   "metadata": {},
   "source": [
    "### Histogram van de faillissementsstatus in oplopende volgorde"
   ]
  },
  {
   "cell_type": "code",
   "execution_count": null,
   "id": "d73fc469",
   "metadata": {},
   "outputs": [],
   "source": [
    "# Histogram van de faillissementsstatus in oplopende volgorde\n",
    "plt.figure(figsize=(12, 6))\n",
    "sns.countplot(x='Status_faillissement', data=data, order=data['Status_faillissement'].value_counts().index)\n",
    "plt.xticks(rotation=30)\n",
    "plt.title('Status Categorieën in Dataset')\n",
    "plt.xlabel('')\n",
    "plt.ylabel('')\n",
    "plt.show()"
   ]
  },
  {
   "cell_type": "markdown",
   "id": "3377c5ed",
   "metadata": {},
   "source": [
    "### Histogram Aantal Faillissementen en Totaal per Maand"
   ]
  },
  {
   "cell_type": "code",
   "execution_count": null,
   "id": "15a70810",
   "metadata": {},
   "outputs": [],
   "source": [
    "# Zorg ervoor dat de 'Datum' kolom een datetime formaat heeft\n",
    "data['Datum'] = pd.to_datetime(data['Datum'])\n",
    "\n",
    "# Voeg een kolom toe voor de maand\n",
    "data['Maand'] = data['Datum'].dt.to_period('M')\n",
    "\n",
    "# Groepeer de data per maand en tel het aantal faillissementen\n",
    "maandelijkse_faillissementen = data[data['Status_faillissement'] == 'Faillissement'].groupby('Maand').size()\n",
    "\n",
    "# Bereken het totaal aantal faillissementen per maand\n",
    "totaal_per_maand = data.groupby('Maand').size()\n",
    "\n",
    "# Maak een gecombineerde plot\n",
    "plt.figure(figsize=(12, 6))\n",
    "sns.lineplot(x=maandelijkse_faillissementen.index.astype(str), y=maandelijkse_faillissementen.values, label='Faillissementen')\n",
    "sns.barplot(x=totaal_per_maand.index.astype(str), y=totaal_per_maand.values, alpha=0.5, label='Totaal')\n",
    "plt.xlabel('')\n",
    "plt.ylabel('')\n",
    "plt.title('Aantal Faillissementen en Totaal per Maand')\n",
    "plt.xticks(rotation=45)\n",
    "plt.legend()\n",
    "plt.show()"
   ]
  },
  {
   "cell_type": "markdown",
   "id": "d2369e0b",
   "metadata": {},
   "source": [
    "### standaard bedrijfsindeling (Sbi) beschriving toevoegen"
   ]
  },
  {
   "cell_type": "code",
   "execution_count": null,
   "id": "d8657e97",
   "metadata": {},
   "outputs": [],
   "source": [
    "# Lees het Excel-bestand met de SBI-codes\n",
    "sbi_data = pd.read_excel('standaard_bedrijfsindeling_2008_excel1.xlsx')\n",
    "\n",
    "# Zet de 'Sbi-code'-kolom naar integers\n",
    "sbi_data['Sbi-code'] = pd.to_numeric(sbi_data['Sbi-code'], errors='coerce').round().astype('Int64')\n",
    "\n",
    "# Merge de 'data'-DataFrame met de SBI-informatie\n",
    "merged_data = pd.merge(data, sbi_data, how='left', on='Sbi-code')"
   ]
  },
  {
   "cell_type": "markdown",
   "id": "6f144f10",
   "metadata": {},
   "source": [
    "### Subset Faillissementen 2023"
   ]
  },
  {
   "cell_type": "code",
   "execution_count": null,
   "id": "858c383e",
   "metadata": {},
   "outputs": [],
   "source": [
    "# Maak een subset met alleen 'faillissement' data\n",
    "subset_faillissement = merged_data[merged_data['Status_faillissement'] == 'Faillissement'].copy()  # Maak een kopie om de SettingWithCopyWarning te vermijden\n",
    "\n",
    "# Bereken de frequentie van elke SBI-code\n",
    "sbi_counts = subset_faillissement['Standaard Bedrijfsindeling'].value_counts(normalize=True)\n",
    "\n",
    "# Maak een nieuwe kolom 'Standaard Bedrijfsindeling_' en vul deze in met 'Overigen' waar de frequentie minder dan 3% is\n",
    "subset_faillissement['Standaard Bedrijfsindeling_'] = subset_faillissement['Standaard Bedrijfsindeling'].apply(\n",
    "    lambda x: 'Overigen' if sbi_counts.get(x, 0) < 0.03 else x\n",
    ")\n",
    "\n",
    "# Plot een taartdiagram van de verdeling van SBI-codes voor 'faillissement' data\n",
    "plt.figure(figsize=(10, 10))\n",
    "subset_faillissement['Standaard Bedrijfsindeling_'].value_counts().plot.pie(autopct=lambda p: '{:.0f} ({:.1f}%)'.format(p * len(subset_faillissement) / 100, p), startangle=90)\n",
    "plt.title('Verdeling van Standaard Bedrijfsindelingen bij Faillissementen')\n",
    "plt.ylabel('')  # Verwijder y-label om het overzicht te verbeteren\n",
    "plt.show()\n",
    "\n",
    "# Voeg 'ORG_PLAATS_1' kolom toe\n",
    "subset_faillissement['ORG_PLAATS_1'] = subset_faillissement['ORG_PLAATS'] + ', The Netherlands'\n",
    "\n",
    "\n",
    "# Vul lege waarden in de kolom 'Standaard Bedrijfsindeling_' met een lege string\n",
    "subset_faillissement['Standaard Bedrijfsindeling_'] = subset_faillissement['Standaard Bedrijfsindeling_'].fillna('').astype(str)\n",
    "\n",
    "# Voeg een nieuwe kolom 'icon_num' toe met waarde 1\n",
    "subset_faillissement['icon_num'] = 1\n"
   ]
  },
  {
   "cell_type": "markdown",
   "id": "a0541840",
   "metadata": {},
   "source": [
    "### Geocoding met behulp van Google Maps API"
   ]
  },
  {
   "cell_type": "code",
   "execution_count": null,
   "id": "6095a99b",
   "metadata": {},
   "outputs": [],
   "source": [
    "# Geocoding met behulp van Google Maps API\n",
    "google_api_key = 'your_google_api_key'  # Vervang 'your_google_api_key' door je echte Google API-sleutel\n",
    "geolocator = GoogleV3(api_key=google_api_key)\n",
    "\n",
    "# Functie om coördinaten voor een stad te verkrijgen\n",
    "def get_coordinates(city_name):\n",
    "    location = geolocator.geocode(city_name)\n",
    "    if location:\n",
    "        return location.latitude, location.longitude\n",
    "    else:\n",
    "        return None, None\n",
    "\n",
    "# Maak nieuwe 'Latitude' en 'Longitude' kolommen\n",
    "subset_faillissement[['Latitude', 'Longitude']] = subset_faillissement['ORG_PLAATS_1'].apply(lambda x: pd.Series(get_coordinates(x)))\n",
    "\n",
    "# Handmatige aanpassingen voor specifieke plaatsen\n",
    "subset_faillissement.loc[subset_faillissement['ORG_PLAATS'] == 'Rijswijk', 'Latitude'] = 52.036751\n",
    "subset_faillissement.loc[subset_faillissement['ORG_PLAATS'] == 'Rijswijk', 'Longitude'] = 4.325870\n",
    "\n",
    "# Verwijder onjuiste locaties\n",
    "subset_faillissement = subset_faillissement[~(subset_faillissement['ORG_PLAATS_1'] == 'Thailand, The Netherlands')]\n",
    "subset_faillissement = subset_faillissement[~(subset_faillissement['ORG_PLAATS_1'] == 'Turkije, The Netherlands')]"
   ]
  },
  {
   "cell_type": "code",
   "execution_count": null,
   "id": "34ae9c45",
   "metadata": {},
   "outputs": [],
   "source": [
    "subset_faillissement.to_excel('subset_faillissement.xlsx')"
   ]
  },
  {
   "cell_type": "markdown",
   "id": "c5426444",
   "metadata": {},
   "source": [
    "## Geolocaties Faillissementen 2023 Folium map"
   ]
  },
  {
   "cell_type": "code",
   "execution_count": null,
   "id": "9151516e",
   "metadata": {},
   "outputs": [],
   "source": [
    "# Creëer een GeoDataFrame voor de geografische gegevens\n",
    "gdf = gpd.GeoDataFrame(subset_faillissement, geometry=gpd.points_from_xy(subset_faillissement['Longitude'], subset_faillissement['Latitude']))\n",
    "\n",
    "# Center de kaart op de gemiddelde coördinaten\n",
    "mapa = folium.Map(location=[gdf.geometry.centroid.y.mean(), gdf.geometry.centroid.x.mean()], tiles=\"CartoDB Positron\", zoom_start=8)  # Verhoog het zoomniveau naar 10\n",
    "\n",
    "# FeatureGroup voor 'ORG_PLAATS'\n",
    "fg0 = folium.FeatureGroup(name='ORG_PLAATS', show=True)\n",
    "marker_cluster0 = plugins.MarkerCluster().add_to(fg0)\n",
    "\n",
    "# Voeg markers toe aan de cluster\n",
    "for _, row in gdf.iterrows():\n",
    "    # Pas de popup-informatie aan op basis van je datasetkolommen\n",
    "    POPUP = folium.Popup(f\"<b>ORG_NAAM:</b> {row['ORG_NAAM']}<br><b>Standaard Bedrijfsindeling:</b> {row['Standaard Bedrijfsindeling']}<br><b>Activiteit:</b> {row['Activiteit']}\", max_width=600)\n",
    "\n",
    "    folium.Marker(\n",
    "        location=[row.geometry.centroid.y, row.geometry.centroid.x],\n",
    "        popup=POPUP,\n",
    "        icon=plugins.BeautifyIcon(\n",
    "            number=row['icon_num'],\n",
    "            border_color='blue',\n",
    "            text_color='blue',\n",
    "            inner_icon_style='margin-top: 0px;'\n",
    "        ),\n",
    "        tooltip=row['ORG_PLAATS'] + ' Klik voor aanvraagsinformatie.'\n",
    "    ).add_to(marker_cluster0)\n",
    "\n",
    "mapa.add_child(fg0)\n",
    "\n",
    "# Voeg een LayerControl toe\n",
    "folium.LayerControl(collapsed=False, autoZIndex=False).add_to(mapa)\n",
    "\n",
    "# Voeg een titel toe aan de kaart\n",
    "loc = 'Geolocaties Faillissementen 2023'\n",
    "title_html = '''\n",
    "             <h3 align=\"center\" style=\"font-size:16px\"><b>{}</b></h3>\n",
    "             '''.format(loc)\n",
    "mapa.get_root().html.add_child(folium.Element(title_html))\n",
    "\n",
    "# Sla de kaart op als HTML-bestand\n",
    "mapa.save('Geolocaties_Faillissementen_2023.html')"
   ]
  },
  {
   "cell_type": "markdown",
   "id": "8d2cbf32",
   "metadata": {},
   "source": [
    "## Spatial join tussen gemeente geodataframe (bron CBS) en faillissement geodataframe"
   ]
  },
  {
   "cell_type": "code",
   "execution_count": null,
   "id": "66a3f577",
   "metadata": {},
   "outputs": [],
   "source": [
    "import folium\n",
    "from folium import plugins\n",
    "import geopandas as gpd\n",
    "\n",
    "# Assuming 'gemeenten_2023_v1.geojson' is your GeoJSON file with municipality boundaries\n",
    "municipality_shapefile = gpd.read_file('gemeenten_2023_v1.geojson')\n",
    "\n",
    "# If the CRS of gdf is not set, you can set it to EPSG:4326 (WGS 84)\n",
    "if gdf.crs is None:\n",
    "    gdf = gdf.set_crs(\"EPSG:4326\")\n",
    "\n",
    "# If the CRS of gemeentes is not set, you can set it to EPSG:28992 (RD New)\n",
    "if municipality_shapefile.crs is None:\n",
    "    municipality_shapefile = municipality_shapefile.set_crs(\"EPSG:28992\")\n",
    "\n",
    "# Reproject gdf to match the CRS of gemeentes\n",
    "gdf = gdf.to_crs(municipality_shapefile.crs)\n",
    "\n",
    "# Perform the spatial join\n",
    "Spatial_data = gpd.sjoin(subset_gdf, municipality_shapefile, how=\"left\", op='within')"
   ]
  },
  {
   "cell_type": "code",
   "execution_count": null,
   "id": "3c5b13a8",
   "metadata": {},
   "outputs": [],
   "source": [
    "Spatial_data.columns"
   ]
  },
  {
   "cell_type": "markdown",
   "id": "5cdf3028",
   "metadata": {},
   "source": [
    "### Geolocaties Faillissementen 2023 Gemeente"
   ]
  },
  {
   "cell_type": "code",
   "execution_count": null,
   "id": "252d288f",
   "metadata": {},
   "outputs": [],
   "source": [
    "import matplotlib.pyplot as plt\n",
    "from mpl_toolkits.axes_grid1 import make_axes_locatable\n",
    "\n",
    "# Create a subplot with GeoPandas plot\n",
    "fig, ax = plt.subplots(figsize=(10, 10))\n",
    "municipality_shapefile.plot(ax=ax, color='white', edgecolor='black')\n",
    "\n",
    "# Choropleth plot for merged_data\n",
    "Spatial_data.plot(column='GM_NAAM', cmap='Blues', linewidth=0.8, ax=ax, legend=False)\n",
    "\n",
    "# Customize colorbar\n",
    "divider = make_axes_locatable(ax)\n",
    "cax = divider.append_axes(\"right\", size=\"5%\", pad=0.1)\n",
    "cbar = plt.colorbar(ax.collections[0], cax=cax)\n",
    "cbar.set_label('GM_NAAM')\n",
    "\n",
    "# Add title and labels\n",
    "ax.set_title('Geolocaties Faillissementen 2023 Gemeente')\n",
    "ax.set_xlabel('Longitude')\n",
    "ax.set_ylabel('Latitude')\n",
    "\n",
    "# Show the plot\n",
    "plt.show()\n"
   ]
  }
 ],
 "metadata": {
  "kernelspec": {
   "display_name": "Python 3 (ipykernel)",
   "language": "python",
   "name": "python3"
  },
  "language_info": {
   "codemirror_mode": {
    "name": "ipython",
    "version": 3
   },
   "file_extension": ".py",
   "mimetype": "text/x-python",
   "name": "python",
   "nbconvert_exporter": "python",
   "pygments_lexer": "ipython3",
   "version": "3.9.12"
  }
 },
 "nbformat": 4,
 "nbformat_minor": 5
}
